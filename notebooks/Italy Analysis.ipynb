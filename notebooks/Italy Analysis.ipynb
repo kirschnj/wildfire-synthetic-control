{
 "cells": [
  {
   "cell_type": "markdown",
   "id": "47cb7cb2",
   "metadata": {},
   "source": [
    "Apply synthetic control to see if the trend in area burned evolved differently in the independent regions who kept the Corpo Forestale, compared to all other regions where since 2017 the Carabinieri Forestali are the responsible authority.\n",
    "\n",
    "Data for area burned since 2008: https://docs.google.com/spreadsheets/d/1Znp3QEZqN_mNEcS6cK9d0Laa4zLtUp6wa08aCQtwZU0/edit#gid=1359845726 \n",
    "Provinces of the autonomous regions are:\n",
    "Friuli-Venezia-Giulia: Udine, Pordenone, Gorizia, Trieste\n",
    "Sardinia: Sassari, Nuoro, Cagliari, Oristano, Olbia-Tempio, Ogliastra, Medio Campidano, Carbonia-Iglesias\n",
    "Sicily: Palermo, Trapani, Agrigento, Caltanissetta, Enna, Ragusa, Siracusa, Catania, Messina \n",
    "Trentino-Alto Adige/Südtirol: Trento, Bolzano\n",
    "Val d’Aosta: Valle d'Aosta/Vallée d'Aoste\n",
    "\n",
    "\n",
    "In 2017, the Corpo Forestale dello Stato (forestry and prevention approach to wildfires) in each region was scrapped and replaced by the Carabinieri Forestali (civil protection/emergency/response approach). The autonomous regions however kept the Corpo Forestale dello Stato (Friuli-Venezia Giulia, Sardinia, Sicily, Trentino-Alto Adige/Südtirol, and Val d'Aosta)"
   ]
  },
  {
   "cell_type": "code",
   "execution_count": null,
   "id": "5be58f9b",
   "metadata": {},
   "outputs": [],
   "source": [
    "import pandas as pd\n",
    "from matplotlib import pyplot as plt\n",
    "# Import packages.\n",
    "import cvxpy as cp\n",
    "import numpy as np"
   ]
  },
  {
   "cell_type": "code",
   "execution_count": null,
   "id": "a6a9a5cd",
   "metadata": {},
   "outputs": [],
   "source": []
  },
  {
   "cell_type": "code",
   "execution_count": null,
   "id": "968fe647",
   "metadata": {},
   "outputs": [],
   "source": [
    "# df = pd.read_excel('../data/NUTS2021.xlsx', sheet_name='Italia')\n",
    "# df = df.rename(columns={'NUTS level 2' : 'Region', 'NUTS level 3' : 'Province'})\n",
    "# df = df[['Region', 'Province']]\n",
    "# df['Region'] = df['Region'].fillna(method='pad')\n",
    "# df = df.drop([0, 1])\n",
    "# df = df.dropna()\n",
    "# df.to_csv('../data/italy_regions.csv', index=False)"
   ]
  },
  {
   "cell_type": "code",
   "execution_count": null,
   "id": "f24cb5af",
   "metadata": {},
   "outputs": [],
   "source": [
    "df_regions = pd.read_csv('../data/italy_regions.csv')\n",
    "map_regions = {row['Province'] : row['Region'] for _, row in df_regions.iterrows()}"
   ]
  },
  {
   "cell_type": "code",
   "execution_count": null,
   "id": "df038913",
   "metadata": {},
   "outputs": [],
   "source": [
    "df = pd.read_csv('../data/Mach l and fire data - Italy - area burned.csv')\n",
    "df['FIREDATE'] = pd.to_datetime(df['FIREDATE'])\n",
    "# df['YEAR'] = df['FIREDATE'].dt.year"
   ]
  },
  {
   "cell_type": "code",
   "execution_count": null,
   "id": "f93c8a63",
   "metadata": {},
   "outputs": [],
   "source": []
  },
  {
   "cell_type": "code",
   "execution_count": null,
   "id": "7f83d3dd",
   "metadata": {},
   "outputs": [],
   "source": []
  },
  {
   "cell_type": "code",
   "execution_count": null,
   "id": "f5f98d95",
   "metadata": {},
   "outputs": [],
   "source": [
    "df = df.rename(columns={'YEARSEASON' : 'YEAR'})\n",
    "df = df[df['YEAR'] < 2022]\n",
    "df['REGION'] = df['PROVINCE'].map(map_regions)\n",
    "df"
   ]
  },
  {
   "cell_type": "code",
   "execution_count": null,
   "id": "cc4557ff",
   "metadata": {},
   "outputs": [],
   "source": [
    "df['AREA_HA'].hist(bins=np.logspace(np.log10(1),np.log10(20000), 20)).set_xscale(\"log\")\n",
    "plt.gca().set_xlabel('Fire Size')\n",
    "plt.gca().set_ylabel('Num')"
   ]
  },
  {
   "cell_type": "code",
   "execution_count": null,
   "id": "c3f56c8a",
   "metadata": {},
   "outputs": [],
   "source": [
    "df['LARGE'] = df['AREA_HA'] >= 100."
   ]
  },
  {
   "cell_type": "code",
   "execution_count": null,
   "id": "2f556152",
   "metadata": {},
   "outputs": [],
   "source": [
    "print(\"COUNTRY:\", df['COUNTRY'].unique())\n",
    "print(\"PROVINCE:\", df['PROVINCE'].unique())"
   ]
  },
  {
   "cell_type": "code",
   "execution_count": null,
   "id": "4a3ad078",
   "metadata": {},
   "outputs": [],
   "source": [
    "g = df.groupby(['YEAR', 'PROVINCE'])\n",
    "g['AREA_HA']"
   ]
  },
  {
   "cell_type": "code",
   "execution_count": null,
   "id": "05d49573",
   "metadata": {
    "scrolled": true
   },
   "outputs": [],
   "source": [
    "group_by = 'PROVINCE'\n",
    "group_by = 'REGION'\n",
    "\n",
    "\n",
    "# compute metrics\n",
    "g = df.groupby(['YEAR', 'REGION'])\n",
    "df_area = g['AREA_HA'].agg('sum')\n",
    "df_count = g['AREA_HA'].agg('count').rename('NUM_FIRES')\n",
    "df_count_large = g['LARGE'].agg('sum').rename('NUM_FIRES_LARGE')\n",
    "\n",
    "df_targets = pd.concat([df_area, df_count, df_count_large], axis=1).reset_index()\n",
    "if group_by == 'PROVINCE':\n",
    "    df_targets.insert(2, column='REGION', value='')\n",
    "    df_targets['REGION'] = df_targets['PROVINCE'].map(map_regions)\n",
    "df_targets"
   ]
  },
  {
   "cell_type": "code",
   "execution_count": null,
   "id": "7ca795ef",
   "metadata": {},
   "outputs": [],
   "source": [
    "# df_targets['NUM_FIRES'].hist()\n",
    "df_targets['NUM_FIRES_LARGE'].hist(bins=np.logspace(np.log10(1),np.log10(20000), 20)).set_xscale(\"log\")"
   ]
  },
  {
   "cell_type": "code",
   "execution_count": null,
   "id": "3e72b97a",
   "metadata": {},
   "outputs": [],
   "source": [
    "df_targets['PROVINCE'].unique().tolist()"
   ]
  },
  {
   "cell_type": "code",
   "execution_count": null,
   "id": "a587c3b4",
   "metadata": {},
   "outputs": [],
   "source": [
    "df_targets['REGION'].unique()\n",
    "df_regions['Region'].unique()"
   ]
  },
  {
   "cell_type": "code",
   "execution_count": null,
   "id": "ec1d1c5c",
   "metadata": {},
   "outputs": [],
   "source": [
    "# Autonomous regions\n",
    "REGIONS_AUTONOMOUS = [\n",
    "    'Friuli-Venezia Giulia', \n",
    "    'Sardegna',\n",
    "    'Sicilia',\n",
    "    \"Valle d'Aosta/Vallée d'Aoste\",\n",
    "    \"Provincia Autonoma di Bolzano/Bozen\",\n",
    "]\n",
    "\n",
    "REGIONS_OTHERS = [r for r in df_targets['REGION'].unique() if not r in REGIONS_AUTONOMOUS]\n"
   ]
  },
  {
   "cell_type": "code",
   "execution_count": null,
   "id": "2c2b9b4a",
   "metadata": {},
   "outputs": [],
   "source": []
  },
  {
   "cell_type": "code",
   "execution_count": null,
   "id": "68580068",
   "metadata": {},
   "outputs": [],
   "source": []
  },
  {
   "cell_type": "code",
   "execution_count": null,
   "id": "f0ba5286",
   "metadata": {},
   "outputs": [],
   "source": [
    "# plot total area burned\n",
    "fig, ax = plt.subplots(figsize=(10,4))\n",
    "for key, grp in df_targets.groupby('PROVINCE'):\n",
    "    if key in PROVINCES_SICILY:\n",
    "        ax.plot(grp['YEAR'], grp['AREA_HA'].cumsum(), label=key)\n",
    "\n",
    "ax.legend()\n",
    "ax.set_title(\"TOTAL AREA BURNED SICILY\")\n",
    "ax.set_ylabel(\"AREA HA\")\n",
    "ax.set_xlabel(\"YEAR\")\n",
    "plt.show()"
   ]
  },
  {
   "cell_type": "code",
   "execution_count": null,
   "id": "65466cc0",
   "metadata": {},
   "outputs": [],
   "source": [
    "# plot total number of fires\n",
    "fig, ax = plt.subplots(figsize=(10,4))\n",
    "for key, grp in df_targets.groupby('PROVINCE'):\n",
    "    if key in PROVINCES_SICILY:\n",
    "        ax.plot(grp['YEAR'], grp['NUM_FIRES'].cumsum(), label=key)\n",
    "\n",
    "ax.legend()\n",
    "ax.set_title(\"TOTAL NUM FIRES SICILY\")\n",
    "ax.set_ylabel(\"COUNT\")\n",
    "ax.set_xlabel(\"YEAR\")\n",
    "plt.show()"
   ]
  },
  {
   "cell_type": "code",
   "execution_count": null,
   "id": "e56d434e",
   "metadata": {},
   "outputs": [],
   "source": [
    "def synthetic_control(X0, Y0, X1, verbose=False):\n",
    "\n",
    "\n",
    "#     if log:\n",
    "#         X0 = np.log(1 + X0)\n",
    "#         Y0 = np.log(1 + Y0)\n",
    "#         X1 = np.log(1 + X1)\n",
    "        \n",
    "#     norm_x0 = np.mean(X0, axis=0)\n",
    "#     norm_y0 = np.mean(Y0, axis=0)\n",
    "   \n",
    "    t, d = X0.shape\n",
    "    _, n = Y0.shape\n",
    "    w = cp.Variable((d, n))\n",
    "    cost = cp.sum_squares(X0 @ w - Y0)\n",
    "    prob = cp.Problem(cp.Minimize(cost), \n",
    "                      [cp.sum(w, axis=0) == np.ones(n), w >= 0]\n",
    "                     )\n",
    "    prob.solve(verbose=verbose, max_iter=100000)\n",
    "    \n",
    "#     w = np.ones(d)/d\n",
    "#     for t in range(10000):\n",
    "#         grad = 2*(X0 @ w -Y0) @ X0\n",
    "#         i = np.argmin(grad)\n",
    "#         w1 = np.zeros(d)\n",
    "#         w1[i] = 1.\n",
    "#         gamma = 1/(t + 2)\n",
    "#         w = (1 - gamma) * w + gamma*w1\n",
    "    \n",
    "    \n",
    "#     # Print result.\n",
    "    if verbose:\n",
    "        print(\"\\nThe optimal value is\", prob.value)\n",
    "        print(\"The optimal x is\")\n",
    "        print(w.value)\n",
    "        print(\"The norm of the residual is \", cp.norm((X0 @ w - Y0)/norm, p=2).value)\n",
    "    w = w.value\n",
    "    Y1_synthetic = X1 @ w\n",
    "    Y0_synthetic = X0 @ w\n",
    "#     print(Y1_synthetic)\n",
    "#     if log:\n",
    "#         Y1_synthetic = np.exp(Y1_synthetic) - 1\n",
    "#         Y0_synthetic = np.exp(Y0_synthetic) - 1\n",
    "    return w, Y1_synthetic, Y0_synthetic"
   ]
  },
  {
   "cell_type": "code",
   "execution_count": null,
   "id": "8aa6af0a",
   "metadata": {},
   "outputs": [],
   "source": []
  },
  {
   "cell_type": "code",
   "execution_count": null,
   "id": "1a823e1d",
   "metadata": {},
   "outputs": [],
   "source": [
    "target = 'AREA_HA'\n",
    "# target = 'NUM_FIRES'\n",
    "# target = 'NUM_FIRES_LARGE'\n",
    "t0 = 2015\n",
    "\n",
    "\n",
    "df_treated"
   ]
  },
  {
   "cell_type": "code",
   "execution_count": null,
   "id": "37de7449",
   "metadata": {},
   "outputs": [],
   "source": []
  },
  {
   "cell_type": "code",
   "execution_count": null,
   "id": "8133072e",
   "metadata": {},
   "outputs": [],
   "source": [
    "target = 'AREA_HA'\n",
    "# target = 'NUM_FIRES'\n",
    "# target = 'NUM_FIRES_LARGE'\n",
    "t0 = 2015\n",
    "\n",
    "# df_treated = df_targets[df_targets['REGION'].isin(REGIONS_AUTONOMOUS)].pivot_table(target, ['YEAR',], group_by).sort_index()\n",
    "# df_control = df_targets[df_targets['REGION'].isin(REGIONS_OTHERS)].pivot_table(target, ['YEAR',], group_by).sort_index()\n",
    "# df_control = df_control.drop(columns=['Lombardia', 'Emilia-Romagna' , 'Provincia Autonoma di Trento'])\n",
    "\n",
    "df_treated = df_targets[df_targets['REGION'].isin(REGIONS_OTHERS)].pivot_table(target, ['YEAR',], group_by).sort_index()\n",
    "df_control = df_targets[df_targets['REGION'].isin(REGIONS_AUTONOMOUS)].pivot_table(target, ['YEAR',], group_by).sort_index()\n",
    "df_treated = df_treated.drop(columns=['Lombardia', 'Emilia-Romagna' , 'Provincia Autonoma di Trento'])\n",
    "\n",
    "\n",
    "# drop_cols = ((~df_provinces.isna()).sum(axis=0) < 2) | ((~df_provinces.loc[:t0 - 1].isna()).sum(axis=0)  ==0) | ((~df_provinces.loc[t0:].isna()).sum(axis=0) == 0)\n",
    "# drop_cols = drop_cols.index[drop_cols].values\n",
    "\n",
    "\n",
    "# df_provinces = df_provinces.fillna(0)\n",
    "# df_treated = df_provinces[[p for p in PROVINCES_AUTONOMOUS if not p in (drop_cols.tolist() + ['Sassari'])]].copy()\n",
    "\n",
    "\n",
    "\n",
    "# # df_treated = df_provinces[PROVINCES_SARDEGNA].copy()\n",
    "# # df_treated = df_provinces[PROVINCES_SICILY].copy()\n",
    "# # df_treated = pd.DataFrame(df_treated.sum(axis=1).rename(\"Sicily\"))\n",
    "\n",
    "# df_control = df_provinces[[p for p in PROVINCES_OTHER if not p in drop_cols.tolist()]]\n",
    "df_treated = df_treated.fillna(0.)\n",
    "df_control = df_control.fillna(0.)\n",
    "\n",
    "df_treated = df_treated.cumsum()\n",
    "df_control = df_control.cumsum()\n",
    "\n",
    "df_treated\n",
    "\n",
    "df_control"
   ]
  },
  {
   "cell_type": "code",
   "execution_count": null,
   "id": "65157d41",
   "metadata": {},
   "outputs": [],
   "source": [
    "T = df_treated.index\n",
    "T0 = df_treated.index[df_treated.index < t0]\n",
    "T1 = df_treated.index[df_treated.index >= t0]\n",
    "Y0 = df_treated[df_treated.index < t0].values\n",
    "Y1 = df_treated[df_treated.index >= t0].values\n",
    "X0 = df_control[df_control.index < t0].values\n",
    "X1 = df_control[df_control.index >= t0].values\n"
   ]
  },
  {
   "cell_type": "code",
   "execution_count": null,
   "id": "bd93ffeb",
   "metadata": {},
   "outputs": [],
   "source": []
  },
  {
   "cell_type": "code",
   "execution_count": null,
   "id": "3153be8a",
   "metadata": {},
   "outputs": [],
   "source": [
    "X0.shape, X1.shape, Y0.shape, Y1.shape"
   ]
  },
  {
   "cell_type": "code",
   "execution_count": null,
   "id": "2ddf7971",
   "metadata": {},
   "outputs": [],
   "source": [
    "# _X0 = np.log(1 + X0)\n",
    "# mean_x0 = np.max(_X0, axis=0)\n",
    "# _X0 = _X0 - mean_x0\n",
    "# _X1 = np.log(1 + X1)- mean_x0\n",
    "# _Y0 = np.log(1 + Y0)\n",
    "# mean_y0 = np.max(_Y0, axis=0)\n",
    "# _Y0 = _Y0 - mean_y0\n"
   ]
  },
  {
   "cell_type": "code",
   "execution_count": null,
   "id": "9ee0ef28",
   "metadata": {},
   "outputs": [],
   "source": [
    "norm_x0 = X0[-1]\n",
    "norm_y0 = Y0[-1]\n",
    "_X0 = X0 / norm_x0\n",
    "_X1 = X1 / norm_x0\n",
    "_Y0 = Y0 / norm_y0"
   ]
  },
  {
   "cell_type": "code",
   "execution_count": null,
   "id": "1c0a6740",
   "metadata": {},
   "outputs": [],
   "source": [
    "W, Y1_synthetic, Y0_synthetic = synthetic_control(_X0, _Y0, _X1,verbose=False)\n",
    "\n",
    "# Y1_synthetic = np.exp(Y1_synthetic + mean_y0) - 1\n",
    "# Y0_synthetic = np.exp(Y0_synthetic + mean_y0) - 1\n",
    "\n",
    "\n",
    "Y1_synthetic = Y1_synthetic * norm_y0\n",
    "Y0_synthetic = Y0_synthetic * norm_y0\n",
    "\n",
    "print(W.shape)\n",
    "threshold = 0.02\n",
    "\n",
    "for unit, w in zip(df_treated.columns.values, W.T):\n",
    "    mask = tuple([w >= threshold])\n",
    "    print(f'{unit}:' +', '.join([f\"({r}, {wi:.2f})\" for (r, wi) in zip(df_control.columns.values[mask], w[mask])]))"
   ]
  },
  {
   "cell_type": "code",
   "execution_count": null,
   "id": "af8b77e0",
   "metadata": {},
   "outputs": [],
   "source": [
    "cumsum = False\n",
    "for unit, y0, y1, y1_synethtic, y0_synthetic in zip(df_treated.columns, Y0.T, Y1.T, Y1_synthetic.T, Y0_synthetic.T):\n",
    "    \n",
    "    data_real = np.concatenate([y0, y1])\n",
    "    data_synthetic = np.concatenate([y0, y1_synethtic])\n",
    "    data_fit  = np.concatenate([y0_synthetic, y1_synethtic])\n",
    "    if cumsum:\n",
    "        data_real = data_real.cumsum()\n",
    "        data_synthetic = data_real.cumsum()\n",
    "        data_fit = data_fit.cumsum()\n",
    "\n",
    "    line, = plt.plot(T, data_real, label=unit)\n",
    "    plt.plot(T, data_synthetic, linestyle='--', color=line.get_color())\n",
    "    plt.plot(T, data_fit, linestyle=':', color=line.get_color())\n",
    "\n",
    "\n",
    "plt.axvline(t0 - 1, c='k', linestyle=':')\n",
    "\n",
    "plt.ylabel(target)\n",
    "plt.xlabel('YEAR')\n",
    "plt.legend()"
   ]
  },
  {
   "cell_type": "code",
   "execution_count": null,
   "id": "16d0dc63",
   "metadata": {},
   "outputs": [],
   "source": [
    "\n",
    "data_real = np.concatenate([Y0.sum(axis=1), Y1.sum(axis=1)])\n",
    "data_fit = np.concatenate([Y0_synthetic.sum(axis=1), Y1_synthetic.sum(axis=1)])\n",
    "data_synthetic = np.concatenate([Y0.sum(axis=1), Y1_synthetic.sum(axis=1)])\n",
    "\n",
    "if cumsum:\n",
    "    data_real = data_real.cumsum()\n",
    "    data_fit = data_fit.cumsum()\n",
    "    data_synthetic = data_synthetic.cumsum()\n",
    "    \n",
    "line, = plt.plot(T, data_real, label='Combined Control')\n",
    "plt.plot(T, data_fit, linestyle=':', color=line.get_color())\n",
    "plt.plot(T, data_synthetic, linestyle='--', color=line.get_color())\n",
    "\n",
    "plt.axvline(t0 - 1, c='k', linestyle=':')\n",
    "\n",
    "plt.ylabel(target)\n",
    "plt.xlabel('YEAR')\n",
    "plt.legend()"
   ]
  },
  {
   "cell_type": "markdown",
   "id": "a88d2ca2",
   "metadata": {},
   "source": [
    "TODO:\n",
    "\n",
    "* Get additional features: Fire index, Weather, Rain, Temps\n",
    "* Ensure we have good predictions in the pre-treated period. Is there a bug?\n",
    "* Read synthetic control paper"
   ]
  },
  {
   "cell_type": "code",
   "execution_count": null,
   "id": "b3d76917",
   "metadata": {},
   "outputs": [],
   "source": [
    "df_gfis = pd.read_csv('../data/MCD64A1_burned_area_full_dataset_2002-2019.csv')\n",
    "df_gfis = df_gfis[df_gfis['Country'] == 'Italy'].copy()"
   ]
  },
  {
   "cell_type": "code",
   "execution_count": null,
   "id": "ea2f3585",
   "metadata": {},
   "outputs": [],
   "source": [
    "df_gfis['Total_hectares'] = df_gfis[['Cropland_BA_hectares', \n",
    "                                     'Forest_BA_hectares', \n",
    "                                     'Grass_and_Shrubland_BA_hectares',\n",
    "                                     'Wetlands_BA_hectares',\n",
    "                                     'Settlement_BA_hectares',\n",
    "                                     'Other_BA_hectares']].sum(axis=1)\n",
    "\n",
    "df_grouped = df_gfis.groupby(['Year', 'Region'])\n",
    "df_gfis_agg = df_grouped['Total_hectares'].agg('sum')\n",
    "df_gfis_agg = df_gfis_agg.reset_index()\n",
    "df_gfis_agg"
   ]
  },
  {
   "cell_type": "code",
   "execution_count": null,
   "id": "6f69e4db",
   "metadata": {},
   "outputs": [],
   "source": [
    "df_gfis_agg = df_gfis_agg[df_gfis_agg['Region'] == 'Sicily']"
   ]
  },
  {
   "cell_type": "code",
   "execution_count": null,
   "id": "6d847214",
   "metadata": {},
   "outputs": [],
   "source": [
    "df_sicilia = df_targets[df_targets['REGION'] == 'Sicilia'].set_index('YEAR')\n",
    "df_sicilia"
   ]
  },
  {
   "cell_type": "code",
   "execution_count": null,
   "id": "7c706740",
   "metadata": {},
   "outputs": [],
   "source": [
    "df_gfis_agg = df_gfis_agg.set_index('Year')\n",
    "df_gfis_agg"
   ]
  },
  {
   "cell_type": "code",
   "execution_count": null,
   "id": "7544ead9",
   "metadata": {},
   "outputs": [],
   "source": [
    "plt.plot(df_gfis_agg.index, df_gfis_agg['Total_hectares'], label='gwis')\n",
    "plt.plot(df_sicilia.index, df_sicilia['AREA_HA'], label='Mach l and fire data')\n",
    "plt.legend()\n",
    "plt.xticks(np.arange(2002, 2021, 2))\n"
   ]
  },
  {
   "cell_type": "code",
   "execution_count": null,
   "id": "7917934f",
   "metadata": {},
   "outputs": [],
   "source": []
  }
 ],
 "metadata": {
  "kernelspec": {
   "display_name": "Python 3",
   "language": "python",
   "name": "python3"
  },
  "language_info": {
   "codemirror_mode": {
    "name": "ipython",
    "version": 3
   },
   "file_extension": ".py",
   "mimetype": "text/x-python",
   "name": "python",
   "nbconvert_exporter": "python",
   "pygments_lexer": "ipython3",
   "version": "3.9.5"
  }
 },
 "nbformat": 4,
 "nbformat_minor": 5
}
